{
  "cells": [
    {
      "cell_type": "markdown",
      "id": "1d4f1b6e",
      "metadata": {
        "id": "b07efec65aa2"
      },
      "source": [
        "## Iowa liquor data preparation\n",
        "\n",
        "This notebook simplifies the Iowa Liquor Sales dataset to make it easier to demo."
      ]
    },
    {
      "cell_type": "code",
      "execution_count": 1,
      "id": "e810020d-2fdc-4a3e-a4fc-727d5f3e9c46",
      "metadata": {
        "id": "c98b3375d98a"
      },
      "outputs": [],
      "source": [
        "from google.cloud import bigquery\n",
        "\n",
        "client = bigquery.Client()"
      ]
    },
    {
      "cell_type": "markdown",
      "id": "7cc25449",
      "metadata": {
        "id": "c6f14aaa82a1"
      },
      "source": [
        "### Retrieve dataset as dataframe"
      ]
    },
    {
      "cell_type": "code",
      "execution_count": 2,
      "id": "e68126f3-7525-45e5-a28c-735d7cb0cc34",
      "metadata": {
        "id": "8912722696e7"
      },
      "outputs": [],
      "source": [
        "dataset_uri = \"bigquery-public-data.iowa_liquor_sales_forecasting.2020_sales_train\""
      ]
    },
    {
      "cell_type": "code",
      "execution_count": 3,
      "id": "e50a42e5-3170-4bf0-ae92-e13fbb3ab071",
      "metadata": {
        "id": "c26d7867b403"
      },
      "outputs": [],
      "source": [
        "sql = f\"\"\"\n",
        "    SELECT *\n",
        "    FROM `{dataset_uri}`\n",
        "\"\"\"\n",
        "\n",
        "df = client.query(sql).to_dataframe()"
      ]
    },
    {
      "cell_type": "markdown",
      "id": "5951134f",
      "metadata": {
        "id": "d5c7bed6bd96"
      },
      "source": [
        "### Clean data"
      ]
    },
    {
      "cell_type": "code",
      "execution_count": 4,
      "id": "9c033094-1e0d-4433-83ca-a98487414f89",
      "metadata": {
        "id": "29df350d35cb"
      },
      "outputs": [],
      "source": [
        "df = df.sort_values(\"date\")\n",
        "df = df.dropna()"
      ]
    },
    {
      "cell_type": "code",
      "execution_count": 5,
      "id": "2bc123be-1227-4b12-99ad-297602892e38",
      "metadata": {
        "id": "a4f3b0041d7e"
      },
      "outputs": [
        {
          "data": {
            "text/plain": [
              "Index(['date', 'store_name', 'city', 'zip_code', 'county', 'sale_dollars'], dtype='object')"
            ]
          },
          "execution_count": 5,
          "metadata": {},
          "output_type": "execute_result"
        }
      ],
      "source": [
        "df.columns"
      ]
    },
    {
      "cell_type": "code",
      "execution_count": 6,
      "id": "4fa3e307-3d92-498a-8007-7d50d7ffdbec",
      "metadata": {
        "id": "3e49f762d2d5"
      },
      "outputs": [
        {
          "data": {
            "text/html": [
              "<div>\n",
              "<style scoped>\n",
              "    .dataframe tbody tr th:only-of-type {\n",
              "        vertical-align: middle;\n",
              "    }\n",
              "\n",
              "    .dataframe tbody tr th {\n",
              "        vertical-align: top;\n",
              "    }\n",
              "\n",
              "    .dataframe thead th {\n",
              "        text-align: right;\n",
              "    }\n",
              "</style>\n",
              "<table border=\"1\" class=\"dataframe\">\n",
              "  <thead>\n",
              "    <tr style=\"text-align: right;\">\n",
              "      <th></th>\n",
              "      <th>date</th>\n",
              "      <th>store_name</th>\n",
              "      <th>city</th>\n",
              "      <th>zip_code</th>\n",
              "      <th>county</th>\n",
              "      <th>sale_dollars</th>\n",
              "    </tr>\n",
              "  </thead>\n",
              "  <tbody>\n",
              "    <tr>\n",
              "      <th>31206</th>\n",
              "      <td>2020-01-02</td>\n",
              "      <td>Best Food Mart 3  LLC</td>\n",
              "      <td>Des Moines</td>\n",
              "      <td>50311.0</td>\n",
              "      <td>POLK</td>\n",
              "      <td>317.04</td>\n",
              "    </tr>\n",
              "    <tr>\n",
              "      <th>33897</th>\n",
              "      <td>2020-01-02</td>\n",
              "      <td>Hy-Vee #3 / BDI / Des Moines</td>\n",
              "      <td>Des Moines</td>\n",
              "      <td>50320.0</td>\n",
              "      <td>POLK</td>\n",
              "      <td>65864.59</td>\n",
              "    </tr>\n",
              "    <tr>\n",
              "      <th>23410</th>\n",
              "      <td>2020-01-02</td>\n",
              "      <td>KUM &amp; GO #292 / Ankeny</td>\n",
              "      <td>Ankeny</td>\n",
              "      <td>50021.0</td>\n",
              "      <td>POLK</td>\n",
              "      <td>3428.22</td>\n",
              "    </tr>\n",
              "    <tr>\n",
              "      <th>45898</th>\n",
              "      <td>2020-01-02</td>\n",
              "      <td>Tobacco Shop / Arnolds Park</td>\n",
              "      <td>Arnolds Park</td>\n",
              "      <td>51331.0</td>\n",
              "      <td>DICKINSON</td>\n",
              "      <td>5006.09</td>\n",
              "    </tr>\n",
              "    <tr>\n",
              "      <th>24009</th>\n",
              "      <td>2020-01-02</td>\n",
              "      <td>Hy-Vee Gas #1 / Ankeny</td>\n",
              "      <td>Ankeny</td>\n",
              "      <td>50023.0</td>\n",
              "      <td>Polk</td>\n",
              "      <td>330.74</td>\n",
              "    </tr>\n",
              "  </tbody>\n",
              "</table>\n",
              "</div>"
            ],
            "text/plain": [
              "             date                    store_name          city zip_code  \\\n",
              "31206  2020-01-02         Best Food Mart 3  LLC    Des Moines  50311.0   \n",
              "33897  2020-01-02  Hy-Vee #3 / BDI / Des Moines    Des Moines  50320.0   \n",
              "23410  2020-01-02        KUM & GO #292 / Ankeny        Ankeny  50021.0   \n",
              "45898  2020-01-02   Tobacco Shop / Arnolds Park  Arnolds Park  51331.0   \n",
              "24009  2020-01-02        Hy-Vee Gas #1 / Ankeny        Ankeny  50023.0   \n",
              "\n",
              "          county  sale_dollars  \n",
              "31206       POLK        317.04  \n",
              "33897       POLK      65864.59  \n",
              "23410       POLK       3428.22  \n",
              "45898  DICKINSON       5006.09  \n",
              "24009       Polk        330.74  "
            ]
          },
          "execution_count": 6,
          "metadata": {},
          "output_type": "execute_result"
        }
      ],
      "source": [
        "df.head()"
      ]
    },
    {
      "cell_type": "code",
      "execution_count": 7,
      "id": "aa54da37-2d4a-4d6a-b2eb-2325c5ceab7a",
      "metadata": {
        "id": "089ff5f0cc5c"
      },
      "outputs": [],
      "source": [
        "df[\"county_and_city\"] = df.county + \" - \" + df.city"
      ]
    },
    {
      "cell_type": "markdown",
      "id": "416e1554",
      "metadata": {
        "id": "6875a863adbb"
      },
      "source": [
        "### Only keep rows from counties and cities with the most rows\n",
        "\n",
        "This is to reduce the dataset for demo purposes"
      ]
    },
    {
      "cell_type": "code",
      "execution_count": 8,
      "id": "627846af-fc49-4b5c-b1e1-30fc59092d75",
      "metadata": {
        "id": "03705e734a56"
      },
      "outputs": [
        {
          "data": {
            "text/plain": [
              "county_and_city\n",
              "POLK - Des Moines              4623\n",
              "LINN - Cedar Rapids            3002\n",
              "SCOTT - Davenport              2371\n",
              "BLACK HAWK - Waterloo          1838\n",
              "POLK - West Des Moines         1599\n",
              "POTTAWATTA - Council Bluffs    1525\n",
              "WOODBURY - Sioux City          1462\n",
              "DUBUQUE - Dubuque              1369\n",
              "JOHNSON - Iowa City            1308\n",
              "STORY - Ames                   1286\n",
              "POLK - Ankeny                  1183\n",
              "POLK - Urbandale                953\n",
              "Name: sale_dollars, dtype: int64"
            ]
          },
          "execution_count": 8,
          "metadata": {},
          "output_type": "execute_result"
        }
      ],
      "source": [
        "group = \"county_and_city\"\n",
        "\n",
        "# Get zip_code_store_name with most rows\n",
        "group_n_largest = df.groupby(group).sale_dollars.count().nlargest(12)\n",
        "\n",
        "group_n_largest"
      ]
    },
    {
      "cell_type": "code",
      "execution_count": 9,
      "id": "49a469fb-561b-4036-871b-7625392797c3",
      "metadata": {
        "id": "02b14c4689f5"
      },
      "outputs": [
        {
          "data": {
            "text/plain": [
              "['POLK - Des Moines',\n",
              " 'LINN - Cedar Rapids',\n",
              " 'SCOTT - Davenport',\n",
              " 'BLACK HAWK - Waterloo',\n",
              " 'POLK - West Des Moines',\n",
              " 'POTTAWATTA - Council Bluffs',\n",
              " 'WOODBURY - Sioux City',\n",
              " 'DUBUQUE - Dubuque',\n",
              " 'JOHNSON - Iowa City',\n",
              " 'STORY - Ames',\n",
              " 'POLK - Ankeny',\n",
              " 'POLK - Urbandale']"
            ]
          },
          "execution_count": 9,
          "metadata": {},
          "output_type": "execute_result"
        }
      ],
      "source": [
        "group_n_largest_names = group_n_largest.reset_index()[group].tolist()\n",
        "\n",
        "group_n_largest_names"
      ]
    },
    {
      "cell_type": "code",
      "execution_count": 10,
      "id": "63bcc67d-d164-4156-8cb0-53bfa9753831",
      "metadata": {
        "id": "82b2bdaed7a7"
      },
      "outputs": [],
      "source": [
        "df_filtered = df[df[group].isin(group_n_largest_names)]"
      ]
    },
    {
      "cell_type": "code",
      "execution_count": null,
      "id": "9a411c9f-7a0e-452e-817e-0589cdc42487",
      "metadata": {
        "id": "38fe1de0874b"
      },
      "outputs": [],
      "source": [
        "import matplotlib.pyplot as plt\n",
        "import seaborn as sns\n",
        "\n",
        "# Plot sales\n",
        "fig = plt.gcf()\n",
        "fig.set_size_inches(24, 12)"
      ]
    },
    {
      "cell_type": "code",
      "execution_count": null,
      "id": "13f2f37e-f88b-4107-88e5-5a6fd56c3c19",
      "metadata": {
        "id": "909cde46971d"
      },
      "outputs": [],
      "source": [
        "sns.relplot(\n",
        "    data=df_filtered,\n",
        "    x=\"date\",\n",
        "    y=\"sale_dollars\",\n",
        "    # hue=\"project_name_and_service\",\n",
        "    row=group,\n",
        "    height=5,\n",
        "    aspect=4,\n",
        "    kind=\"line\",\n",
        "    # facet_kws={'sharey': False, 'sharex': True},\n",
        "    errorbar=None,\n",
        ")"
      ]
    },
    {
      "cell_type": "code",
      "execution_count": null,
      "id": "43067955-74fe-4928-bd72-1997611e5b7c",
      "metadata": {
        "id": "f507c45e63ed"
      },
      "outputs": [],
      "source": [
        "df_filtered.to_csv(\"iowa_liquor_sales.csv\", index=False)"
      ]
    }
  ],
  "metadata": {
    "colab": {
      "name": "iowa_liquor_sales_dataprep.ipynb",
      "toc_visible": true
    },
    "kernelspec": {
      "display_name": "Python 3",
      "name": "python3"
    }
  },
  "nbformat": 4,
  "nbformat_minor": 0
}
